{
 "cells": [
  {
   "cell_type": "code",
   "execution_count": 36,
   "metadata": {},
   "outputs": [],
   "source": [
    "import pandas as pd\n",
    "import numpy as np"
   ]
  },
  {
   "cell_type": "code",
   "execution_count": 18,
   "metadata": {},
   "outputs": [],
   "source": [
    "df = pd.read_csv('static/calfire.csv')"
   ]
  },
  {
   "cell_type": "code",
   "execution_count": 19,
   "metadata": {},
   "outputs": [],
   "source": [
    "df['AcresBurned'] = df['AcresBurned'].fillna(0)"
   ]
  },
  {
   "cell_type": "code",
   "execution_count": 20,
   "metadata": {},
   "outputs": [
    {
     "data": {
      "text/plain": [
       "count      1467.000000\n",
       "mean       4729.651670\n",
       "std       28519.314809\n",
       "min           0.000000\n",
       "25%          35.000000\n",
       "50%          98.000000\n",
       "75%         422.500000\n",
       "max      410203.000000\n",
       "Name: AcresBurned, dtype: float64"
      ]
     },
     "execution_count": 20,
     "metadata": {},
     "output_type": "execute_result"
    }
   ],
   "source": [
    "df['AcresBurned'].describe()"
   ]
  },
  {
   "cell_type": "code",
   "execution_count": 39,
   "metadata": {},
   "outputs": [
    {
     "name": "stdout",
     "output_type": "stream",
     "text": [
      "0.0\n",
      "35.0\n",
      "98.0\n",
      "422.5\n",
      "410203.0\n"
     ]
    }
   ],
   "source": [
    "x = np.quantile(df['AcresBurned'], [0, .25, .5, .75, 1])\n",
    "\n",
    "for i in x:\n",
    "    print(i)"
   ]
  },
  {
   "cell_type": "code",
   "execution_count": 22,
   "metadata": {},
   "outputs": [
    {
     "data": {
      "text/html": [
       "<div>\n",
       "<style scoped>\n",
       "    .dataframe tbody tr th:only-of-type {\n",
       "        vertical-align: middle;\n",
       "    }\n",
       "\n",
       "    .dataframe tbody tr th {\n",
       "        vertical-align: top;\n",
       "    }\n",
       "\n",
       "    .dataframe thead th {\n",
       "        text-align: right;\n",
       "    }\n",
       "</style>\n",
       "<table border=\"1\" class=\"dataframe\">\n",
       "  <thead>\n",
       "    <tr style=\"text-align: right;\">\n",
       "      <th></th>\n",
       "      <th>Location</th>\n",
       "      <th>Longitude</th>\n",
       "      <th>MajorIncident</th>\n",
       "      <th>Name</th>\n",
       "      <th>PercentContained</th>\n",
       "      <th>PersonnelInvolved</th>\n",
       "      <th>Public</th>\n",
       "      <th>SearchDescription</th>\n",
       "      <th>SearchKeywords</th>\n",
       "      <th>Started</th>\n",
       "      <th>Status</th>\n",
       "      <th>StructuresDamaged</th>\n",
       "      <th>StructuresDestroyed</th>\n",
       "      <th>StructuresEvacuated</th>\n",
       "      <th>StructuresThreatened</th>\n",
       "      <th>UniqueId</th>\n",
       "      <th>Updated</th>\n",
       "      <th>WaterTenders</th>\n",
       "    </tr>\n",
       "  </thead>\n",
       "  <tbody>\n",
       "    <tr>\n",
       "      <th>0</th>\n",
       "      <td>3 miles east of Groveland along Hwy 120</td>\n",
       "      <td>-120.086000</td>\n",
       "      <td>False</td>\n",
       "      <td>Rim Fire</td>\n",
       "      <td>100.0</td>\n",
       "      <td>NaN</td>\n",
       "      <td>True</td>\n",
       "      <td>The Rim Fire was east of Groveland along Highw...</td>\n",
       "      <td>Rim Fire, Stanislaus National Forest, Yosemite...</td>\n",
       "      <td>2013-08-17T15:25:00Z</td>\n",
       "      <td>Finalized</td>\n",
       "      <td>NaN</td>\n",
       "      <td>NaN</td>\n",
       "      <td>NaN</td>\n",
       "      <td>NaN</td>\n",
       "      <td>5fb18d4d-213f-4d83-a179-daaf11939e78</td>\n",
       "      <td>2013-09-06T18:30:00Z</td>\n",
       "      <td>NaN</td>\n",
       "    </tr>\n",
       "    <tr>\n",
       "      <th>1</th>\n",
       "      <td>Angeles National Forest</td>\n",
       "      <td>-118.423176</td>\n",
       "      <td>False</td>\n",
       "      <td>Powerhouse Fire</td>\n",
       "      <td>100.0</td>\n",
       "      <td>NaN</td>\n",
       "      <td>True</td>\n",
       "      <td>The Powerhouse Fire burned in May and June 201...</td>\n",
       "      <td>Powerhouse Fire, May 2013, June 2013, Angeles ...</td>\n",
       "      <td>2013-05-30T15:28:00Z</td>\n",
       "      <td>Finalized</td>\n",
       "      <td>NaN</td>\n",
       "      <td>NaN</td>\n",
       "      <td>NaN</td>\n",
       "      <td>NaN</td>\n",
       "      <td>bf37805e-1cc2-4208-9972-753e47874c87</td>\n",
       "      <td>2013-06-08T18:30:00Z</td>\n",
       "      <td>NaN</td>\n",
       "    </tr>\n",
       "    <tr>\n",
       "      <th>2</th>\n",
       "      <td>Hwy 243 &amp; Hwy 74 near Mountain Center</td>\n",
       "      <td>-116.728850</td>\n",
       "      <td>False</td>\n",
       "      <td>Mountain Fire</td>\n",
       "      <td>100.0</td>\n",
       "      <td>NaN</td>\n",
       "      <td>True</td>\n",
       "      <td>The Mountain Fire burned in July 2013 off High...</td>\n",
       "      <td>Mountain Fire, July 2013, Highway 243, Highway...</td>\n",
       "      <td>2013-07-15T13:43:00Z</td>\n",
       "      <td>Finalized</td>\n",
       "      <td>NaN</td>\n",
       "      <td>NaN</td>\n",
       "      <td>NaN</td>\n",
       "      <td>NaN</td>\n",
       "      <td>a3149fec-4d48-427c-8b2c-59e8b79d59db</td>\n",
       "      <td>2013-07-30T18:00:00Z</td>\n",
       "      <td>NaN</td>\n",
       "    </tr>\n",
       "    <tr>\n",
       "      <th>3</th>\n",
       "      <td>Deadwood Ridge, northeast of Foresthill</td>\n",
       "      <td>-120.650000</td>\n",
       "      <td>False</td>\n",
       "      <td>American Fire</td>\n",
       "      <td>100.0</td>\n",
       "      <td>NaN</td>\n",
       "      <td>True</td>\n",
       "      <td>The American Fire burned in August 2013 off De...</td>\n",
       "      <td>American Fire, August 2013, Deadwood Ridge, Fo...</td>\n",
       "      <td>2013-08-10T16:30:00Z</td>\n",
       "      <td>Finalized</td>\n",
       "      <td>NaN</td>\n",
       "      <td>NaN</td>\n",
       "      <td>NaN</td>\n",
       "      <td>NaN</td>\n",
       "      <td>8213f5c7-34fa-403b-a4bc-da2ace6e6625</td>\n",
       "      <td>2013-08-30T08:00:00Z</td>\n",
       "      <td>NaN</td>\n",
       "    </tr>\n",
       "    <tr>\n",
       "      <th>4</th>\n",
       "      <td>Seven miles north of Big Creek</td>\n",
       "      <td>-119.318000</td>\n",
       "      <td>False</td>\n",
       "      <td>Aspen Fire</td>\n",
       "      <td>100.0</td>\n",
       "      <td>NaN</td>\n",
       "      <td>True</td>\n",
       "      <td>The Aspen Fire burned in July 2013 seven miles...</td>\n",
       "      <td>217  Aspen Fire, July 2013, Big Creek, Fresno ...</td>\n",
       "      <td>2013-07-22T22:15:00Z</td>\n",
       "      <td>Finalized</td>\n",
       "      <td>NaN</td>\n",
       "      <td>NaN</td>\n",
       "      <td>NaN</td>\n",
       "      <td>NaN</td>\n",
       "      <td>bee8c339-4f26-4b78-a5b4-a8a0ebdb8786</td>\n",
       "      <td>2013-09-24T20:15:00Z</td>\n",
       "      <td>NaN</td>\n",
       "    </tr>\n",
       "  </tbody>\n",
       "</table>\n",
       "</div>"
      ],
      "text/plain": [
       "                                  Location   Longitude  MajorIncident  \\\n",
       "0  3 miles east of Groveland along Hwy 120 -120.086000          False   \n",
       "1                  Angeles National Forest -118.423176          False   \n",
       "2    Hwy 243 & Hwy 74 near Mountain Center -116.728850          False   \n",
       "3  Deadwood Ridge, northeast of Foresthill -120.650000          False   \n",
       "4           Seven miles north of Big Creek -119.318000          False   \n",
       "\n",
       "              Name  PercentContained  PersonnelInvolved  Public  \\\n",
       "0         Rim Fire             100.0                NaN    True   \n",
       "1  Powerhouse Fire             100.0                NaN    True   \n",
       "2    Mountain Fire             100.0                NaN    True   \n",
       "3    American Fire             100.0                NaN    True   \n",
       "4       Aspen Fire             100.0                NaN    True   \n",
       "\n",
       "                                   SearchDescription  \\\n",
       "0  The Rim Fire was east of Groveland along Highw...   \n",
       "1  The Powerhouse Fire burned in May and June 201...   \n",
       "2  The Mountain Fire burned in July 2013 off High...   \n",
       "3  The American Fire burned in August 2013 off De...   \n",
       "4  The Aspen Fire burned in July 2013 seven miles...   \n",
       "\n",
       "                                      SearchKeywords               Started  \\\n",
       "0  Rim Fire, Stanislaus National Forest, Yosemite...  2013-08-17T15:25:00Z   \n",
       "1  Powerhouse Fire, May 2013, June 2013, Angeles ...  2013-05-30T15:28:00Z   \n",
       "2  Mountain Fire, July 2013, Highway 243, Highway...  2013-07-15T13:43:00Z   \n",
       "3  American Fire, August 2013, Deadwood Ridge, Fo...  2013-08-10T16:30:00Z   \n",
       "4  217  Aspen Fire, July 2013, Big Creek, Fresno ...  2013-07-22T22:15:00Z   \n",
       "\n",
       "      Status  StructuresDamaged  StructuresDestroyed  StructuresEvacuated  \\\n",
       "0  Finalized                NaN                  NaN                  NaN   \n",
       "1  Finalized                NaN                  NaN                  NaN   \n",
       "2  Finalized                NaN                  NaN                  NaN   \n",
       "3  Finalized                NaN                  NaN                  NaN   \n",
       "4  Finalized                NaN                  NaN                  NaN   \n",
       "\n",
       "   StructuresThreatened                              UniqueId  \\\n",
       "0                   NaN  5fb18d4d-213f-4d83-a179-daaf11939e78   \n",
       "1                   NaN  bf37805e-1cc2-4208-9972-753e47874c87   \n",
       "2                   NaN  a3149fec-4d48-427c-8b2c-59e8b79d59db   \n",
       "3                   NaN  8213f5c7-34fa-403b-a4bc-da2ace6e6625   \n",
       "4                   NaN  bee8c339-4f26-4b78-a5b4-a8a0ebdb8786   \n",
       "\n",
       "                Updated  WaterTenders  \n",
       "0  2013-09-06T18:30:00Z           NaN  \n",
       "1  2013-06-08T18:30:00Z           NaN  \n",
       "2  2013-07-30T18:00:00Z           NaN  \n",
       "3  2013-08-30T08:00:00Z           NaN  \n",
       "4  2013-09-24T20:15:00Z           NaN  "
      ]
     },
     "execution_count": 22,
     "metadata": {},
     "output_type": "execute_result"
    }
   ],
   "source": [
    "cols= df.columns[25:]\n",
    "\n",
    "df[cols].head()"
   ]
  },
  {
   "cell_type": "code",
   "execution_count": 23,
   "metadata": {},
   "outputs": [
    {
     "data": {
      "text/plain": [
       "Index(['Unnamed: 0', 'Unnamed: 0.1', 'Unnamed: 0.1.1', 'AcresBurned', 'Active',\n",
       "       'AdminUnit', 'AirTankers', 'ArchiveYear', 'CalFireIncident',\n",
       "       'CanonicalUrl', 'ConditionStatement', 'ControlStatement', 'Counties',\n",
       "       'CountyIds', 'CrewsInvolved', 'Dozers', 'Engines', 'Extinguished',\n",
       "       'Fatalities', 'Featured', 'Final', 'FuelType', 'Helicopters',\n",
       "       'Injuries', 'Latitude', 'Location', 'Longitude', 'MajorIncident',\n",
       "       'Name', 'PercentContained', 'PersonnelInvolved', 'Public',\n",
       "       'SearchDescription', 'SearchKeywords', 'Started', 'Status',\n",
       "       'StructuresDamaged', 'StructuresDestroyed', 'StructuresEvacuated',\n",
       "       'StructuresThreatened', 'UniqueId', 'Updated', 'WaterTenders'],\n",
       "      dtype='object')"
      ]
     },
     "execution_count": 23,
     "metadata": {},
     "output_type": "execute_result"
    }
   ],
   "source": [
    "df.columns"
   ]
  },
  {
   "cell_type": "code",
   "execution_count": 24,
   "metadata": {},
   "outputs": [
    {
     "data": {
      "text/plain": [
       "array([2013, 2014, 2015, 2016, 2017, 2018, 2019])"
      ]
     },
     "execution_count": 24,
     "metadata": {},
     "output_type": "execute_result"
    }
   ],
   "source": [
    "df['ArchiveYear'].unique()"
   ]
  },
  {
   "cell_type": "code",
   "execution_count": 30,
   "metadata": {},
   "outputs": [],
   "source": [
    "df['SearchDescription'] = df['SearchDescription'].fillna('No Description Available')"
   ]
  },
  {
   "cell_type": "code",
   "execution_count": 31,
   "metadata": {},
   "outputs": [],
   "source": [
    "df['Fatalities'] = df['Fatalities'].fillna(0)\n",
    "df['Fatalities']\n",
    "\n",
    "df.to_csv('static/calfire.csv')"
   ]
  },
  {
   "cell_type": "code",
   "execution_count": 4,
   "metadata": {},
   "outputs": [
    {
     "data": {
      "text/plain": [
       "0"
      ]
     },
     "execution_count": 4,
     "metadata": {},
     "output_type": "execute_result"
    }
   ],
   "source": [
    "df['Longitude'].isna().sum()"
   ]
  },
  {
   "cell_type": "code",
   "execution_count": 5,
   "metadata": {},
   "outputs": [
    {
     "data": {
      "text/plain": [
       "0"
      ]
     },
     "execution_count": 5,
     "metadata": {},
     "output_type": "execute_result"
    }
   ],
   "source": [
    "df['Latitude'].isna().sum()"
   ]
  },
  {
   "cell_type": "code",
   "execution_count": 6,
   "metadata": {},
   "outputs": [
    {
     "data": {
      "text/plain": [
       "dtype('float64')"
      ]
     },
     "execution_count": 6,
     "metadata": {},
     "output_type": "execute_result"
    }
   ],
   "source": [
    "df['Latitude'].dtype"
   ]
  },
  {
   "cell_type": "code",
   "execution_count": 7,
   "metadata": {},
   "outputs": [
    {
     "data": {
      "text/plain": [
       "dtype('float64')"
      ]
     },
     "execution_count": 7,
     "metadata": {},
     "output_type": "execute_result"
    }
   ],
   "source": [
    "df['Longitude'].dtype"
   ]
  },
  {
   "cell_type": "code",
   "execution_count": 13,
   "metadata": {},
   "outputs": [
    {
     "data": {
      "text/html": [
       "<div>\n",
       "<style scoped>\n",
       "    .dataframe tbody tr th:only-of-type {\n",
       "        vertical-align: middle;\n",
       "    }\n",
       "\n",
       "    .dataframe tbody tr th {\n",
       "        vertical-align: top;\n",
       "    }\n",
       "\n",
       "    .dataframe thead th {\n",
       "        text-align: right;\n",
       "    }\n",
       "</style>\n",
       "<table border=\"1\" class=\"dataframe\">\n",
       "  <thead>\n",
       "    <tr style=\"text-align: right;\">\n",
       "      <th></th>\n",
       "      <th>Longitude</th>\n",
       "      <th>Latitude</th>\n",
       "    </tr>\n",
       "  </thead>\n",
       "  <tbody>\n",
       "    <tr>\n",
       "      <th>1212</th>\n",
       "      <td>-120.258000</td>\n",
       "      <td>-120.258000</td>\n",
       "    </tr>\n",
       "    <tr>\n",
       "      <th>391</th>\n",
       "      <td>0.000000</td>\n",
       "      <td>0.000000</td>\n",
       "    </tr>\n",
       "    <tr>\n",
       "      <th>404</th>\n",
       "      <td>0.000000</td>\n",
       "      <td>0.000000</td>\n",
       "    </tr>\n",
       "    <tr>\n",
       "      <th>399</th>\n",
       "      <td>0.000000</td>\n",
       "      <td>0.000000</td>\n",
       "    </tr>\n",
       "    <tr>\n",
       "      <th>398</th>\n",
       "      <td>0.000000</td>\n",
       "      <td>0.000000</td>\n",
       "    </tr>\n",
       "    <tr>\n",
       "      <th>...</th>\n",
       "      <td>...</td>\n",
       "      <td>...</td>\n",
       "    </tr>\n",
       "    <tr>\n",
       "      <th>1034</th>\n",
       "      <td>33.939428</td>\n",
       "      <td>117.138741</td>\n",
       "    </tr>\n",
       "    <tr>\n",
       "      <th>822</th>\n",
       "      <td>34.015742</td>\n",
       "      <td>117.337331</td>\n",
       "    </tr>\n",
       "    <tr>\n",
       "      <th>228</th>\n",
       "      <td>38.178241</td>\n",
       "      <td>120.679019</td>\n",
       "    </tr>\n",
       "    <tr>\n",
       "      <th>249</th>\n",
       "      <td>38.453000</td>\n",
       "      <td>121.999000</td>\n",
       "    </tr>\n",
       "    <tr>\n",
       "      <th>528</th>\n",
       "      <td>-120.841536</td>\n",
       "      <td>5487.000000</td>\n",
       "    </tr>\n",
       "  </tbody>\n",
       "</table>\n",
       "<p>1577 rows × 2 columns</p>\n",
       "</div>"
      ],
      "text/plain": [
       "       Longitude     Latitude\n",
       "1212 -120.258000  -120.258000\n",
       "391     0.000000     0.000000\n",
       "404     0.000000     0.000000\n",
       "399     0.000000     0.000000\n",
       "398     0.000000     0.000000\n",
       "...          ...          ...\n",
       "1034   33.939428   117.138741\n",
       "822    34.015742   117.337331\n",
       "228    38.178241   120.679019\n",
       "249    38.453000   121.999000\n",
       "528  -120.841536  5487.000000\n",
       "\n",
       "[1577 rows x 2 columns]"
      ]
     },
     "execution_count": 13,
     "metadata": {},
     "output_type": "execute_result"
    }
   ],
   "source": [
    "df[['Longitude', 'Latitude']].sort_values(by='Latitude')"
   ]
  },
  {
   "cell_type": "code",
   "execution_count": null,
   "metadata": {},
   "outputs": [],
   "source": [
    "df"
   ]
  }
 ],
 "metadata": {
  "kernelspec": {
   "display_name": "dsc80",
   "language": "python",
   "name": "python3"
  },
  "language_info": {
   "codemirror_mode": {
    "name": "ipython",
    "version": 3
   },
   "file_extension": ".py",
   "mimetype": "text/x-python",
   "name": "python",
   "nbconvert_exporter": "python",
   "pygments_lexer": "ipython3",
   "version": "3.8.16"
  }
 },
 "nbformat": 4,
 "nbformat_minor": 2
}
